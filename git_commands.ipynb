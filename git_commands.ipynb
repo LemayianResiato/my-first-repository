{
 "cells": [
  {
   "cell_type": "markdown",
   "id": "5d007f4d-b408-4fa0-bedd-1539ff71fc24",
   "metadata": {},
   "source": [
    "#### 1. Setting up a virtual Environment\r\n",
    "To set up a virtual environment, run the below commands considering if you are a windows user or mac user\r",
    ".yml"
   ]
  }
 ],
 "metadata": {
  "kernelspec": {
   "display_name": "Python 3 (ipykernel)",
   "language": "python",
   "name": "python3"
  },
  "language_info": {
   "codemirror_mode": {
    "name": "ipython",
    "version": 3
   },
   "file_extension": ".py",
   "mimetype": "text/x-python",
   "name": "python",
   "nbconvert_exporter": "python",
   "pygments_lexer": "ipython3",
   "version": "3.11.7"
  }
 },
 "nbformat": 4,
 "nbformat_minor": 5
}
