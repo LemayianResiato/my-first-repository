{
 "cells": [
  {
   "cell_type": "markdown",
   "id": "d52b7569-760c-4d25-bb89-4e8c7de6fa46",
   "metadata": {},
   "source": [
    "### Hello world"
   ]
  },
  {
   "cell_type": "code",
   "execution_count": null,
   "id": "d6d51bf2-0acb-4c72-b9a2-3c42072bd0d8",
   "metadata": {},
   "outputs": [],
   "source": []
  }
 ],
 "metadata": {
  "kernelspec": {
   "display_name": "Python 3 (ipykernel)",
   "language": "python",
   "name": "python3"
  },
  "language_info": {
   "codemirror_mode": {
    "name": "ipython",
    "version": 3
   },
   "file_extension": ".py",
   "mimetype": "text/x-python",
   "name": "python",
   "nbconvert_exporter": "python",
   "pygments_lexer": "ipython3",
   "version": "3.11.7"
  }
 },
 "nbformat": 4,
 "nbformat_minor": 5
}
